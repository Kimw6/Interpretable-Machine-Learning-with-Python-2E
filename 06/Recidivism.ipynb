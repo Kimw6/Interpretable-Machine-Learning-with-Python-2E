{
 "cells": [
  {
   "cell_type": "markdown",
   "metadata": {},
   "source": [
    "# Criminal Recidivism Prediction\n",
    "#### CHAPTER 06: _Anchor and Counterfactual Explanations_\n",
    "##### From **Interpretable Machine Learning with Python 2nd Edition** by Serg Masís, published by Packt"
   ]
  },
  {
   "cell_type": "markdown",
   "metadata": {},
   "source": [
    "## The Preparations"
   ]
  },
  {
   "cell_type": "markdown",
   "metadata": {},
   "source": [
    "### Installing the Libraries"
   ]
  },
  {
   "cell_type": "code",
   "execution_count": null,
   "metadata": {},
   "outputs": [],
   "source": [
    "!pip install pandas==1.3.5\n",
    "!pip install numpy==1.21.6\n",
    "!pip install scikit-learn==1.0.2\n",
    "!pip install matplotlib==3.5.1\n",
    "!pip install seaborn==0.11.0\n",
    "!pip install alibi==0.6.5\n",
    "\n",
    "!pip install tensorflow==2.2.0\n",
    "!pip install catboost==0.24.1\n",
    "!pip install shap==0.37.0\n",
    "!pip install witwidget==1.7.0"
   ]
  },
  {
   "cell_type": "code",
   "execution_count": null,
   "metadata": {},
   "outputs": [],
   "source": [
    "!pip install pathlib2==2.3.5\n",
    "!pip install scipy==1.4.1\n",
    "!pip install statsmodels==0.11.0\n",
    "!pip install mlxtend==0.19.0\n",
    "!pip install pycebox==0.0.1\n",
    "!pip install aif360==0.3.0\n",
    "!pip install opencv-python==4.4.0.44\n",
    "!pip install tqdm==4.62.3"
   ]
  },
  {
   "cell_type": "markdown",
   "metadata": {},
   "source": [
    "### Loading the Libraries"
   ]
  },
  {
   "cell_type": "code",
   "execution_count": 1,
   "metadata": {},
   "outputs": [],
   "source": [
    "import math\n",
    "import mldatasets\n",
    "import pandas as pd\n",
    "import numpy as np\n",
    "from sklearn.model_selection import train_test_split\n",
    "from sklearn import metrics\n",
    "from catboost import CatBoostClassifier\n",
    "import tensorflow as tf\n",
    "import matplotlib.pyplot as plt\n",
    "import seaborn as sns\n",
    "from alibi.utils.mapping import ohe_to_ord, ord_to_ohe\n",
    "from alibi.explainers import AnchorTabular, CounterFactualProto\n",
    "import shap\n",
    "import witwidget\n",
    "from witwidget.notebook.visualization import WitWidget, WitConfigBuilder"
   ]
  },
  {
   "cell_type": "code",
   "execution_count": 2,
   "metadata": {},
   "outputs": [
    {
     "name": "stdout",
     "output_type": "stream",
     "text": [
      "2.2.0\n"
     ]
    }
   ],
   "source": [
    "print(tf.__version__) "
   ]
  },
  {
   "cell_type": "code",
   "execution_count": 3,
   "metadata": {},
   "outputs": [
    {
     "name": "stdout",
     "output_type": "stream",
     "text": [
      "Eager execution enabled:  False\n"
     ]
    }
   ],
   "source": [
    "tf.compat.v1.disable_eager_execution()\n",
    "print('Eager execution enabled: ', tf.executing_eagerly())"
   ]
  },
  {
   "cell_type": "markdown",
   "metadata": {},
   "source": [
    "### Understanding and Preparing the Data"
   ]
  },
  {
   "cell_type": "code",
   "execution_count": 4,
   "metadata": {},
   "outputs": [
    {
     "name": "stdout",
     "output_type": "stream",
     "text": [
      "https://storage.googleapis.com/what-if-tool-resources/computefest2019/cox-violent-parsed_filt.csv downloaded to /Users/serg/EXTEND/PROJECTS/InterpretableML.ai/v2/programming/Chapter6/data/cox-violent-parsed_filt.csv\n",
      "1 dataset files found in /Users/serg/EXTEND/PROJECTS/InterpretableML.ai/v2/programming/Chapter6/data folder\n",
      "parsing /Users/serg/EXTEND/PROJECTS/InterpretableML.ai/v2/programming/Chapter6/data/cox-violent-parsed_filt.csv\n"
     ]
    }
   ],
   "source": [
    "recidivism_df = mldatasets.load(\"recidivism-risk\", prepare=True)"
   ]
  },
  {
   "cell_type": "code",
   "execution_count": 5,
   "metadata": {},
   "outputs": [
    {
     "name": "stdout",
     "output_type": "stream",
     "text": [
      "<class 'pandas.core.frame.DataFrame'>\n",
      "Int64Index: 14788 entries, 0 to 18315\n",
      "Data columns (total 23 columns):\n",
      " #   Column                 Non-Null Count  Dtype\n",
      "---  ------                 --------------  -----\n",
      " 0   age                    14788 non-null  int8 \n",
      " 1   juv_fel_count          14788 non-null  int8 \n",
      " 2   juv_misd_count         14788 non-null  int8 \n",
      " 3   juv_other_count        14788 non-null  int64\n",
      " 4   priors_count           14788 non-null  int8 \n",
      " 5   is_recid               14788 non-null  int8 \n",
      " 6   sex_Female             14788 non-null  uint8\n",
      " 7   sex_Male               14788 non-null  uint8\n",
      " 8   race_African-American  14788 non-null  uint8\n",
      " 9   race_Asian             14788 non-null  uint8\n",
      " 10  race_Caucasian         14788 non-null  uint8\n",
      " 11  race_Hispanic          14788 non-null  uint8\n",
      " 12  race_Native American   14788 non-null  uint8\n",
      " 13  race_Other             14788 non-null  uint8\n",
      " 14  c_charge_degree_(F1)   14788 non-null  uint8\n",
      " 15  c_charge_degree_(F2)   14788 non-null  uint8\n",
      " 16  c_charge_degree_(F3)   14788 non-null  uint8\n",
      " 17  c_charge_degree_(F7)   14788 non-null  uint8\n",
      " 18  c_charge_degree_(M1)   14788 non-null  uint8\n",
      " 19  c_charge_degree_(M2)   14788 non-null  uint8\n",
      " 20  c_charge_degree_(MO3)  14788 non-null  uint8\n",
      " 21  c_charge_degree_Other  14788 non-null  uint8\n",
      " 22  compas_score           14788 non-null  int64\n",
      "dtypes: int64(2), int8(5), uint8(16)\n",
      "memory usage: 649.9 KB\n"
     ]
    }
   ],
   "source": [
    "recidivism_df.info()"
   ]
  },
  {
   "cell_type": "markdown",
   "metadata": {},
   "source": [
    "#### Examining Predictive Bias with Confusion Matrices"
   ]
  },
  {
   "cell_type": "code",
   "execution_count": 6,
   "metadata": {},
   "outputs": [
    {
     "data": {
      "image/png": "[encoded data removed]",
      "text/plain": [
       "<Figure size 432x360 with 2 Axes>"
      ]
     },
     "metadata": {
      "needs_background": "light"
     },
     "output_type": "display_data"
    }
   ],
   "source": [
    "cf_matrix = metrics.confusion_matrix(recidivism_df.is_recid,\\\n",
    "                                     recidivism_df.compas_score)\n",
    "plt.figure(figsize=(6, 5))\n",
    "sns.heatmap(cf_matrix/np.sum(cf_matrix), annot=True,\\\n",
    "            fmt='.2%', cmap='Blues', annot_kws={'size':16})\n",
    "plt.show()"
   ]
  },
  {
   "cell_type": "code",
   "execution_count": 7,
   "metadata": {},
   "outputs": [
    {
     "data": {
      "image/png": "[encoded data removed]",
      "text/plain": [
       "<Figure size 864x360 with 4 Axes>"
      ]
     },
     "metadata": {
      "needs_background": "light"
     },
     "output_type": "display_data"
    },
    {
     "name": "stdout",
     "output_type": "stream",
     "text": [
      "\tAfrican-American FPR:\t53.1%\n",
      "\tCaucasian FPR:\t\t28.8%\n",
      "\tRatio FPRs:\t\t1.84 x\n"
     ]
    }
   ],
   "source": [
    "recidivism_c_df = recidivism_df[recidivism_df['race_Caucasian'] == 1]\n",
    "recidivism_aa_df = recidivism_df[recidivism_df['race_African-American'] == 1]\n",
    "\n",
    "_ = mldatasets.\\\n",
    "      compare_confusion_matrices(recidivism_c_df.is_recid, \n",
    "                                 recidivism_c_df.compas_score,\\\n",
    "                                 recidivism_aa_df.is_recid,\\\n",
    "                                 recidivism_aa_df.compas_score,\\\n",
    "                                 'Caucasian', 'African-American', compare_fpr=True) "
   ]
  },
  {
   "cell_type": "markdown",
   "metadata": {},
   "source": [
    "#### Data Preparation"
   ]
  },
  {
   "cell_type": "code",
   "execution_count": 8,
   "metadata": {},
   "outputs": [],
   "source": [
    "rand = 9\n",
    "np.random.seed(rand)\n",
    "\n",
    "y = recidivism_df['compas_score']\n",
    "X = recidivism_df.drop(['compas_score', 'is_recid'], axis=1).copy()\n",
    "X_train, X_test, y_train, y_test = train_test_split(X, y, test_size=0.2, random_state=rand)"
   ]
  },
  {
   "cell_type": "markdown",
   "metadata": {},
   "source": [
    "#### Modeling"
   ]
  },
  {
   "cell_type": "code",
   "execution_count": 9,
   "metadata": {},
   "outputs": [
    {
     "data": {
      "image/png": "[encoded data removed]",
      "text/plain": [
       "<Figure size 864x864 with 1 Axes>"
      ]
     },
     "metadata": {},
     "output_type": "display_data"
    },
    {
     "name": "stdout",
     "output_type": "stream",
     "text": [
      "Accuracy_train:  0.8790\t\tAccuracy_test:   0.8087\n",
      "Precision_test:  0.8277\t\tRecall_test:     0.8110\n",
      "ROC-AUC_test:    0.8927\t\tF1_test:         0.8193\t\tMCC_test: 0.6162\n"
     ]
    }
   ],
   "source": [
    "orig_plt_params = plt.rcParams\n",
    "sns.set()\n",
    "cb_mdl = CatBoostClassifier(iterations=500, learning_rate=0.5, depth=8)\n",
    "fitted_cb_mdl = cb_mdl.fit(X_train, y_train, verbose=False)\n",
    "y_train_cb_pred, y_test_cb_prob, y_test_cb_pred =\\\n",
    "        mldatasets.evaluate_class_mdl(fitted_cb_mdl, X_train,\\\n",
    "                                      X_test, y_train, y_test) "
   ]
  },
  {
   "cell_type": "markdown",
   "metadata": {},
   "source": [
    "#### Getting Acquainted to our “Instance of Interest”"
   ]
  },
  {
   "cell_type": "code",
   "execution_count": 10,
   "metadata": {},
   "outputs": [
    {
     "data": {
      "text/html": [
       "<div>\n",
       "<style scoped>\n",
       "    .dataframe tbody tr th:only-of-type {\n",
       "        vertical-align: middle;\n",
       "    }\n",
       "\n",
       "    .dataframe tbody tr th {\n",
       "        vertical-align: top;\n",
       "    }\n",
       "\n",
       "    .dataframe thead th {\n",
       "        text-align: right;\n",
       "    }\n",
       "</style>\n",
       "<table border=\"1\" class=\"dataframe\">\n",
       "  <thead>\n",
       "    <tr style=\"text-align: right;\">\n",
       "      <th></th>\n",
       "      <th>10127</th>\n",
       "      <th>2726</th>\n",
       "      <th>5231</th>\n",
       "    </tr>\n",
       "  </thead>\n",
       "  <tbody>\n",
       "    <tr>\n",
       "      <th>y</th>\n",
       "      <td>0</td>\n",
       "      <td>0</td>\n",
       "      <td>1</td>\n",
       "    </tr>\n",
       "    <tr>\n",
       "      <th>y_pred</th>\n",
       "      <td>0</td>\n",
       "      <td>0</td>\n",
       "      <td>1</td>\n",
       "    </tr>\n",
       "    <tr>\n",
       "      <th>age</th>\n",
       "      <td>24</td>\n",
       "      <td>23</td>\n",
       "      <td>23</td>\n",
       "    </tr>\n",
       "    <tr>\n",
       "      <th>juv_fel_count</th>\n",
       "      <td>0</td>\n",
       "      <td>0</td>\n",
       "      <td>0</td>\n",
       "    </tr>\n",
       "    <tr>\n",
       "      <th>juv_misd_count</th>\n",
       "      <td>0</td>\n",
       "      <td>0</td>\n",
       "      <td>0</td>\n",
       "    </tr>\n",
       "    <tr>\n",
       "      <th>juv_other_count</th>\n",
       "      <td>0</td>\n",
       "      <td>0</td>\n",
       "      <td>0</td>\n",
       "    </tr>\n",
       "    <tr>\n",
       "      <th>priors_count</th>\n",
       "      <td>2</td>\n",
       "      <td>2</td>\n",
       "      <td>2</td>\n",
       "    </tr>\n",
       "    <tr>\n",
       "      <th>sex_Female</th>\n",
       "      <td>0</td>\n",
       "      <td>0</td>\n",
       "      <td>0</td>\n",
       "    </tr>\n",
       "    <tr>\n",
       "      <th>sex_Male</th>\n",
       "      <td>1</td>\n",
       "      <td>1</td>\n",
       "      <td>1</td>\n",
       "    </tr>\n",
       "    <tr>\n",
       "      <th>race_African-American</th>\n",
       "      <td>0</td>\n",
       "      <td>0</td>\n",
       "      <td>1</td>\n",
       "    </tr>\n",
       "    <tr>\n",
       "      <th>race_Asian</th>\n",
       "      <td>0</td>\n",
       "      <td>0</td>\n",
       "      <td>0</td>\n",
       "    </tr>\n",
       "    <tr>\n",
       "      <th>race_Caucasian</th>\n",
       "      <td>1</td>\n",
       "      <td>0</td>\n",
       "      <td>0</td>\n",
       "    </tr>\n",
       "    <tr>\n",
       "      <th>race_Hispanic</th>\n",
       "      <td>0</td>\n",
       "      <td>1</td>\n",
       "      <td>0</td>\n",
       "    </tr>\n",
       "    <tr>\n",
       "      <th>race_Native American</th>\n",
       "      <td>0</td>\n",
       "      <td>0</td>\n",
       "      <td>0</td>\n",
       "    </tr>\n",
       "    <tr>\n",
       "      <th>race_Other</th>\n",
       "      <td>0</td>\n",
       "      <td>0</td>\n",
       "      <td>0</td>\n",
       "    </tr>\n",
       "    <tr>\n",
       "      <th>c_charge_degree_(F1)</th>\n",
       "      <td>0</td>\n",
       "      <td>0</td>\n",
       "      <td>0</td>\n",
       "    </tr>\n",
       "    <tr>\n",
       "      <th>c_charge_degree_(F2)</th>\n",
       "      <td>0</td>\n",
       "      <td>0</td>\n",
       "      <td>0</td>\n",
       "    </tr>\n",
       "    <tr>\n",
       "      <th>c_charge_degree_(F3)</th>\n",
       "      <td>0</td>\n",
       "      <td>1</td>\n",
       "      <td>0</td>\n",
       "    </tr>\n",
       "    <tr>\n",
       "      <th>c_charge_degree_(F7)</th>\n",
       "      <td>0</td>\n",
       "      <td>0</td>\n",
       "      <td>1</td>\n",
       "    </tr>\n",
       "    <tr>\n",
       "      <th>c_charge_degree_(M1)</th>\n",
       "      <td>1</td>\n",
       "      <td>0</td>\n",
       "      <td>0</td>\n",
       "    </tr>\n",
       "    <tr>\n",
       "      <th>c_charge_degree_(M2)</th>\n",
       "      <td>0</td>\n",
       "      <td>0</td>\n",
       "      <td>0</td>\n",
       "    </tr>\n",
       "    <tr>\n",
       "      <th>c_charge_degree_(MO3)</th>\n",
       "      <td>0</td>\n",
       "      <td>0</td>\n",
       "      <td>0</td>\n",
       "    </tr>\n",
       "    <tr>\n",
       "      <th>c_charge_degree_Other</th>\n",
       "      <td>0</td>\n",
       "      <td>0</td>\n",
       "      <td>0</td>\n",
       "    </tr>\n",
       "  </tbody>\n",
       "</table>\n",
       "</div>"
      ],
      "text/plain": [
       "                       10127  2726   5231 \n",
       "y                          0      0      1\n",
       "y_pred                     0      0      1\n",
       "age                       24     23     23\n",
       "juv_fel_count              0      0      0\n",
       "juv_misd_count             0      0      0\n",
       "juv_other_count            0      0      0\n",
       "priors_count               2      2      2\n",
       "sex_Female                 0      0      0\n",
       "sex_Male                   1      1      1\n",
       "race_African-American      0      0      1\n",
       "race_Asian                 0      0      0\n",
       "race_Caucasian             1      0      0\n",
       "race_Hispanic              0      1      0\n",
       "race_Native American       0      0      0\n",
       "race_Other                 0      0      0\n",
       "c_charge_degree_(F1)       0      0      0\n",
       "c_charge_degree_(F2)       0      0      0\n",
       "c_charge_degree_(F3)       0      1      0\n",
       "c_charge_degree_(F7)       0      0      1\n",
       "c_charge_degree_(M1)       1      0      0\n",
       "c_charge_degree_(M2)       0      0      0\n",
       "c_charge_degree_(MO3)      0      0      0\n",
       "c_charge_degree_Other      0      0      0"
      ]
     },
     "execution_count": 10,
     "metadata": {},
     "output_type": "execute_result"
    }
   ],
   "source": [
    "idx1 = 5231\n",
    "idx2 = 2726\n",
    "idx3 = 10127\n",
    "eval_idxs = X_test.index.isin([idx1, idx2, idx3])\n",
    "X_test_evals = X_test[eval_idxs]\n",
    "eval_compare_df = pd.concat([\\\n",
    "            pd.DataFrame({'y':y_test[eval_idxs]},\\\n",
    "                         index=[idx3, idx2, idx1]),\\\n",
    "            pd.DataFrame({'y_pred':y_test_cb_pred[eval_idxs]},\\\n",
    "                         index=[idx3, idx2, idx1]),\\\n",
    "            X_test_evals], axis=1).transpose()\n",
    "\n",
    "eval_compare_df"
   ]
  },
  {
   "cell_type": "markdown",
   "metadata": {},
   "source": [
    "## Understanding Anchor Explanations"
   ]
  },
  {
   "cell_type": "markdown",
   "metadata": {},
   "source": [
    "### Preparations for Anchor and Counterfactual Explanations with Alibi"
   ]
  },
  {
   "cell_type": "code",
   "execution_count": 11,
   "metadata": {},
   "outputs": [],
   "source": [
    "class_names = ['Low Risk', 'Medium/High Risk']"
   ]
  },
  {
   "cell_type": "code",
   "execution_count": 12,
   "metadata": {},
   "outputs": [
    {
     "name": "stdout",
     "output_type": "stream",
     "text": [
      "[[23  0  0  0  2  0  1  1  0  0  0  0  0  0  0  0  1  0  0  0  0]]\n"
     ]
    }
   ],
   "source": [
    "X_test_eval = np.expand_dims(X_test.values[X_test.\\\n",
    "                                           index.get_loc(idx1)], axis=0)\n",
    "print(X_test_eval)"
   ]
  },
  {
   "cell_type": "code",
   "execution_count": 13,
   "metadata": {},
   "outputs": [
    {
     "name": "stdout",
     "output_type": "stream",
     "text": [
      "[[23  0  0  0  2  1  0  3]]\n"
     ]
    }
   ],
   "source": [
    "cat_vars_ohe = {5: 2, 7: 6, 13: 8}\n",
    "print(ohe_to_ord(X_test_eval, cat_vars_ohe)[0])"
   ]
  },
  {
   "cell_type": "code",
   "execution_count": 14,
   "metadata": {},
   "outputs": [],
   "source": [
    "category_map = {\n",
    "    5: ['Female', 'Male'],\n",
    "    6: ['African-American', 'Asian', 'Caucasian',\\\n",
    "        'Hispanic', 'Native American', 'Other'],\n",
    "    7: ['Felony 1st Degree', 'Felony 2nd Degree',\\\n",
    "        'Felony 3rd Degree', 'Felony 7th Degree',\\\n",
    "        'Misdemeanor 1st Degree', 'Misdemeanor 2nd Degree',\\\n",
    "        'Misdemeanor 3rd Degree', 'Other Charge Degree']\n",
    "}\n",
    "feature_names = ['age', 'juv_fel_count', 'juv_misd_count',\\\n",
    "                 'juv_other_count', 'priors_count', \n",
    "                 'sex', 'race', 'c_charge_degree']"
   ]
  },
  {
   "cell_type": "code",
   "execution_count": 15,
   "metadata": {},
   "outputs": [],
   "source": [
    "category_map_ohe = {5: ['Not Female', 'Female'], 6: ['Not Male', 'Male'],\\\n",
    "        7:['Not African American', 'African American'],\\\n",
    "        8:['Not Asian', 'Asian'], 9:['Not Caucasian', 'Caucasian'],\\\n",
    "        10:['Not Hispanic', 'Hispanic'],\\\n",
    "        11:['Not Native American', 'Native American'],\\\n",
    "        12:['Not Other Race', 'Other Race'],\\\n",
    "        13:['Not Felony 1st Level', 'Felony 1st Level'],\\\n",
    "        14:['Not Felony 2nd Level', 'Felony 2nd Level'],\\\n",
    "        15:['Not Felony 3rd Level', 'Felony 3rd Level'],\\\n",
    "        16:['Not Felony 7th Level', 'Felony 7th Level'],\\\n",
    "        17:['Not Misdemeanor 1st Deg', 'Misdemeanor 1st Deg'],\\\n",
    "        18:['Not Misdemeanor 2nd Deg', 'Misdemeanor 2nd Deg'],\\\n",
    "        19:['Not Misdemeanor 3rd Deg', 'Misdemeanor 3rd Deg'],\\\n",
    "        20:['Not Other Charge Degree', 'Other Charge Degree']}"
   ]
  },
  {
   "cell_type": "markdown",
   "metadata": {},
   "source": [
    "### Local Interpretations for Anchor Explanations"
   ]
  },
  {
   "cell_type": "code",
   "execution_count": 16,
   "metadata": {},
   "outputs": [
    {
     "data": {
      "text/plain": [
       "AnchorTabular(meta={\n",
       "  'name': 'AnchorTabular',\n",
       "  'type': ['blackbox'],\n",
       "  'explanations': ['local'],\n",
       "  'params': {'disc_perc': (25, 50, 75), 'seed': None},\n",
       "  'version': '0.6.5'}\n",
       ")"
      ]
     },
     "execution_count": 16,
     "metadata": {},
     "output_type": "execute_result"
    }
   ],
   "source": [
    "predict_cb_fn = lambda x: fitted_cb_mdl.predict_proba(x)\n",
    "anchor_cb_explainer = AnchorTabular(predict_cb_fn, X_train.columns,\\\n",
    "                                    categorical_names=category_map_ohe)\n",
    "anchor_cb_explainer.fit(X_train.values)"
   ]
  },
  {
   "cell_type": "code",
   "execution_count": 17,
   "metadata": {},
   "outputs": [
    {
     "name": "stdout",
     "output_type": "stream",
     "text": [
      "Prediction: Medium/High Risk\n"
     ]
    }
   ],
   "source": [
    "print('Prediction: %s' %\\\n",
    "      class_names[anchor_cb_explainer.predictor(X_test.loc[idx1].values)[0]])"
   ]
  },
  {
   "cell_type": "code",
   "execution_count": 18,
   "metadata": {},
   "outputs": [
    {
     "name": "stdout",
     "output_type": "stream",
     "text": [
      "Anchor: age <= 25.00 AND\n",
      "\tpriors_count > 0.00 AND\n",
      "\trace_African-American = African American AND\n",
      "\trace_Caucasian = Not Caucasian\n",
      "Precision: 0.898\n",
      "Coverage: 0.120\n"
     ]
    }
   ],
   "source": [
    "anchor_cb_explanation =\\\n",
    "    anchor_cb_explainer.explain(X_test.loc[idx1].values, threshold=0.85,\\\n",
    "                                seed=rand)\n",
    "print('Anchor: %s' % (' AND\\r\\n\\t'.join(anchor_cb_explanation.anchor)))\n",
    "print('Precision: %.3f' % anchor_cb_explanation.precision)\n",
    "print('Coverage: %.3f' % anchor_cb_explanation.coverage)"
   ]
  },
  {
   "cell_type": "code",
   "execution_count": 19,
   "metadata": {},
   "outputs": [
    {
     "name": "stdout",
     "output_type": "stream",
     "text": [
      "Anchor: age <= 25.00 AND\n",
      "\tpriors_count > 0.00 AND\n",
      "\trace_African-American = African American AND\n",
      "\tc_charge_degree_(M1) = Not Misdemeanor 1st Deg AND\n",
      "\tc_charge_degree_(F3) = Not Felony 3rd Level AND\n",
      "\trace_Hispanic = Not Hispanic\n",
      "Precision: 0.915\n",
      "Coverage: 0.027\n"
     ]
    }
   ],
   "source": [
    "anchor_cb_explanation =\\\n",
    "    anchor_cb_explainer.explain(X_test.loc[idx1].values, threshold=0.9,\\\n",
    "                                seed=rand)\n",
    "print('Anchor: %s' % (' AND\\r\\n\\t'.join(anchor_cb_explanation.anchor)))\n",
    "print('Precision: %.3f' % anchor_cb_explanation.precision)\n",
    "print('Coverage: %.3f' % anchor_cb_explanation.coverage)"
   ]
  },
  {
   "cell_type": "code",
   "execution_count": 20,
   "metadata": {},
   "outputs": [
    {
     "name": "stdout",
     "output_type": "stream",
     "text": [
      "Anchor: priors_count <= 2.00 AND\n",
      "\tc_charge_degree_(M1) = Misdemeanor 1st Deg AND\n",
      "\trace_African-American = Not African American\n",
      "Precision: 0.871\n",
      "Coverage: 0.101\n"
     ]
    }
   ],
   "source": [
    "anchor_cb_explanation =\\\n",
    "    anchor_cb_explainer.explain(X_test.loc[idx3].values, threshold=0.85,\\\n",
    "                                seed=rand)\n",
    "print('Anchor: %s' % (' AND\\r\\n\\t'.join(anchor_cb_explanation.anchor)))\n",
    "print('Precision: %.3f' % anchor_cb_explanation.precision)\n",
    "print('Coverage: %.3f' % anchor_cb_explanation.coverage) #REMOVE CELL"
   ]
  },
  {
   "cell_type": "code",
   "execution_count": 21,
   "metadata": {},
   "outputs": [
    {
     "name": "stdout",
     "output_type": "stream",
     "text": [
      "Anchor: priors_count <= 2.00 AND\n",
      "\trace_African-American = Not African American AND\n",
      "\tsex_Female = Not Female AND\n",
      "\tjuv_other_count <= 0.00\n",
      "Precision: 0.865\n",
      "Coverage: 0.230\n"
     ]
    }
   ],
   "source": [
    "anchor_cb_explanation =\\\n",
    "    anchor_cb_explainer.explain(X_test.loc[idx2].values, threshold=0.85,\\\n",
    "                                seed=rand)\n",
    "print('Anchor: %s' % (' AND\\r\\n\\t'.join(anchor_cb_explanation.anchor)))\n",
    "print('Precision: %.3f' % anchor_cb_explanation.precision)\n",
    "print('Coverage: %.3f' % anchor_cb_explanation.coverage)"
   ]
  },
  {
   "cell_type": "markdown",
   "metadata": {},
   "source": [
    "## Exploring Counterfactual Explanations"
   ]
  },
  {
   "cell_type": "markdown",
   "metadata": {},
   "source": [
    "### Counterfactual Explanations Guided by Prototypes"
   ]
  },
  {
   "cell_type": "code",
   "execution_count": 22,
   "metadata": {},
   "outputs": [
    {
     "name": "stdout",
     "output_type": "stream",
     "text": [
      "(array([[18.,  0.,  0.,  0.,  0.,  0.,  0.,  0.,  0.,  0.,  0.,  0.,  0.,\n",
      "         0.,  0.,  0.,  0.,  0.,  0.,  0.,  0.]], dtype=float32), array([[96., 20., 13., 11., 38.,  1.,  1.,  1.,  1.,  1.,  1.,  1.,  1.,\n",
      "         1.,  1.,  1.,  1.,  1.,  1.,  1.,  1.]], dtype=float32))\n"
     ]
    }
   ],
   "source": [
    "feature_range = (X_train.values.min(axis=0).reshape(1,21).astype(np.float32),\\\n",
    "                 X_train.values.max(axis=0).reshape(1,21).astype(np.float32))\n",
    "print(feature_range)"
   ]
  },
  {
   "cell_type": "code",
   "execution_count": 23,
   "metadata": {},
   "outputs": [
    {
     "name": "stdout",
     "output_type": "stream",
     "text": [
      "WARNING:tensorflow:From /opt/anaconda3/lib/python3.7/site-packages/alibi/explainers/cfproto.py:123: The name tf.keras.backend.get_session is deprecated. Please use tf.compat.v1.keras.backend.get_session instead.\n",
      "\n",
      "WARNING:tensorflow:From /opt/anaconda3/lib/python3.7/site-packages/tensorflow/python/ops/resource_variable_ops.py:1666: calling BaseResourceVariable.__init__ (from tensorflow.python.ops.resource_variable_ops) with constraint is deprecated and will be removed in a future version.\n",
      "Instructions for updating:\n",
      "If using Keras pass *_constraint arguments to layers.\n"
     ]
    },
    {
     "name": "stderr",
     "output_type": "stream",
     "text": [
      "The class name `CounterFactualProto` is deprecated, please use `CounterfactualProto`.\n",
      "No encoder specified. Using k-d trees to represent class prototypes.\n"
     ]
    },
    {
     "data": {
      "text/plain": [
       "CounterfactualProto(meta={\n",
       "  'name': 'CounterfactualProto',\n",
       "  'type': ['blackbox', 'tensorflow', 'keras'],\n",
       "  'explanations': ['local'],\n",
       "  'params': {\n",
       "              'kappa': 0.0,\n",
       "              'beta': 0.01,\n",
       "              'feature_range': (array([[18.,  0.,  0.,  0.,  0.,  0.,  0.,  0.,  0.,  0.,  0.,  0.,  0.,\n",
       "         0.,  0.,  0.,  0.,  0.,  0.,  0.,  0.]], dtype=float32), array([[96., 20., 13., 11., 38.,  1.,  1.,  1.,  1.,  1.,  1.,  1.,  1.,\n",
       "         1.,  1.,  1.,  1.,  1.,  1.,  1.,  1.]], dtype=float32)),\n",
       "              'gamma': 0.0,\n",
       "              'theta': 5,\n",
       "              'cat_vars': None,\n",
       "              'ohe': False,\n",
       "              'use_kdtree': True,\n",
       "              'learning_rate_init': 0.01,\n",
       "              'max_iterations': 500,\n",
       "              'c_init': 1.0,\n",
       "              'c_steps': 2,\n",
       "              'eps': (0.001, 0.001),\n",
       "              'clip': (-1000.0, 1000.0),\n",
       "              'update_num_grad': 1,\n",
       "              'write_dir': None,\n",
       "              'shape': (1, 21),\n",
       "              'is_model': False,\n",
       "              'is_ae': False,\n",
       "              'is_enc': False,\n",
       "              'enc_or_kdtree': True,\n",
       "              'is_cat': False,\n",
       "              'trustscore_kwargs': None,\n",
       "              'd_type': 'abdm-mvdm',\n",
       "              'w': None,\n",
       "              'disc_perc': (25, 50, 75),\n",
       "              'standardize_cat_vars': False,\n",
       "              'smooth': 1.0,\n",
       "              'center': True,\n",
       "              'update_feature_range': True}\n",
       "            ,\n",
       "  'version': '0.6.5'}\n",
       ")"
      ]
     },
     "execution_count": 23,
     "metadata": {},
     "output_type": "execute_result"
    }
   ],
   "source": [
    "np.random.seed(rand)\n",
    "tf.random.set_seed(rand)\n",
    "cf_cb_explainer = CounterFactualProto(predict_cb_fn,\n",
    "                                    X_test_eval.shape,\n",
    "                                    max_iterations=500,\n",
    "                                    feature_range=feature_range, \n",
    "                                    beta=.01, theta=5,\\\n",
    "                                    c_init = 1., c_steps = 2,\n",
    "                                    use_kdtree=True\n",
    "                                )\n",
    "cf_cb_explainer.fit(X_test.values, d_type='abdm-mvdm')"
   ]
  },
  {
   "cell_type": "code",
   "execution_count": 24,
   "metadata": {},
   "outputs": [
    {
     "name": "stdout",
     "output_type": "stream",
     "text": [
      "Instance Outcomes and Probabilities\n",
      "------------------------------------------------\n",
      "       original:  Medium/High Risk\n",
      "                  [0.24722641 0.75277359]\n",
      " counterfactual:  Low Risk\n",
      "                  [0.92013317 0.07986683]\n",
      "\n",
      "Categorical Feature Counterfactual Perturbations\n",
      "------------------------------------------------\n",
      "\t           race:  African-American  -->  Hispanic\n",
      "\n",
      "Numerical Feature Counterfactual Perturbations\n",
      "------------------------------------------------\n",
      "CPU times: user 6.58 s, sys: 1.78 s, total: 8.36 s\n",
      "Wall time: 5.18 s\n"
     ]
    }
   ],
   "source": [
    "%%time\n",
    "cf_cb_explanation = cf_cb_explainer.explain(X_test_eval)\n",
    "mldatasets.describe_cf_instance(X_test_eval, cf_cb_explanation, class_names,\\\n",
    "                  cat_vars_ohe, category_map, feature_names)"
   ]
  },
  {
   "cell_type": "markdown",
   "metadata": {},
   "source": [
    "### Counterfactual Instances and much more with the What-If-Tool (WIT)"
   ]
  },
  {
   "cell_type": "markdown",
   "metadata": {},
   "source": [
    "#### Configuring WIT"
   ]
  },
  {
   "cell_type": "code",
   "execution_count": 26,
   "metadata": {},
   "outputs": [],
   "source": [
    "shap_cb_explainer = shap.TreeExplainer(fitted_cb_mdl)"
   ]
  },
  {
   "cell_type": "code",
   "execution_count": 27,
   "metadata": {},
   "outputs": [],
   "source": [
    "test_df = recidivism_df.loc[y_test.index]\n",
    "test_np = test_df.values\n",
    "cols_l = test_df.columns\n",
    "delcol_idx = [cols_l.get_loc(\"is_recid\"),\\\n",
    "              cols_l.get_loc(\"compas_score\")]"
   ]
  },
  {
   "cell_type": "code",
   "execution_count": 28,
   "metadata": {},
   "outputs": [],
   "source": [
    "def custom_predict_with_shap(examples_np):\n",
    "    #For shap values we only need same features\n",
    "    #that were used for training\n",
    "    inputs_np = np.delete(np.array(examples_np),\\\n",
    "                          delcol_idx, axis=1)\n",
    "\n",
    "    #Get the model's class predictions\n",
    "    preds = predict_cb_fn(inputs_np)\n",
    "\n",
    "    #With test data generate SHAP values which converted\n",
    "    #to a list of dictionaries format\n",
    "    keepcols_l = [c for i, c in enumerate(cols_l)\\\n",
    "                  if i not in delcol_idx]\n",
    "    shap_output = shap_cb_explainer.shap_values(inputs_np)\n",
    "    attributions = []\n",
    "    for shap in shap_output:\n",
    "        attrs = {}\n",
    "        for i, col in enumerate(keepcols_l):\n",
    "            attrs[col] = shap[i]\n",
    "        attributions.append(attrs)\n",
    "        \n",
    "    #Prediction function must output \n",
    "    #predictions/attributions in dictionary\n",
    "    output = {'predictions': preds,\\\n",
    "              'attributions': attributions}\n",
    "    return output"
   ]
  },
  {
   "cell_type": "markdown",
   "metadata": {},
   "source": [
    "#### Displaying WIT"
   ]
  },
  {
   "cell_type": "code",
   "execution_count": 29,
   "metadata": {},
   "outputs": [
    {
     "name": "stdout",
     "output_type": "stream",
     "text": [
      "2910\n"
     ]
    }
   ],
   "source": [
    "print(y_test.index.get_loc(5231))"
   ]
  },
  {
   "cell_type": "code",
   "execution_count": 30,
   "metadata": {},
   "outputs": [
    {
     "data": {
      "text/html": [
       "<style>.container { width:100% !important; }</style>"
      ],
      "text/plain": [
       "<IPython.core.display.HTML object>"
      ]
     },
     "metadata": {},
     "output_type": "display_data"
    },
    {
     "data": {
      "application/vnd.jupyter.widget-view+json": {
       "model_id": "9eaa2601e22d4abda5e24a45e356b00c",
       "version_major": 2,
       "version_minor": 0
      },
      "text/plain": [
       "WitWidget(config={'model_type': 'classification', 'label_vocab': ['Low Risk', 'Medium/High Risk'], 'feature_na…"
      ]
     },
     "metadata": {},
     "output_type": "display_data"
    }
   ],
   "source": [
    "wit_config_builder = WitConfigBuilder(\\\n",
    "                    test_np.tolist(), feature_names=cols_l.tolist()\n",
    "                ).set_custom_predict_fn(custom_predict_with_shap).\\\n",
    "                set_target_feature(\"is_recid\").set_label_vocab(class_names)\n",
    "WitWidget(wit_config_builder, height=800)"
   ]
  }
 ],
 "metadata": {
  "kernelspec": {
   "display_name": "Python 3",
   "language": "python",
   "name": "python3"
  },
  "language_info": {
   "codemirror_mode": {
    "name": "ipython",
    "version": 3
   },
   "file_extension": ".py",
   "mimetype": "text/x-python",
   "name": "python",
   "nbconvert_exporter": "python",
   "pygments_lexer": "ipython3",
   "version": "3.7.6"
  }
 },
 "nbformat": 4,
 "nbformat_minor": 4
}
